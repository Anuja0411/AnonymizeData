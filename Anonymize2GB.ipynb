{
 "cells": [
  {
   "cell_type": "markdown",
   "id": "0342fae3",
   "metadata": {},
   "source": [
    "# Data Processing Problem 2"
   ]
  },
  {
   "cell_type": "markdown",
   "id": "8db7e48d",
   "metadata": {},
   "source": [
    "\n",
    "## Author :- Anuja Jain \n",
    "## Date :- 22 Apr 2021 \n",
    "## Distributed Platform :-  PySpark"
   ]
  },
  {
   "cell_type": "markdown",
   "id": "c659c884",
   "metadata": {},
   "source": [
    "### Import all the required libraries"
   ]
  },
  {
   "cell_type": "code",
   "execution_count": 1,
   "id": "2095f740",
   "metadata": {},
   "outputs": [],
   "source": [
    "import os\n",
    "import sys\n",
    "import findspark\n",
    "import time\n",
    "\n",
    "# Initialize Findspark to locate Pyspark installed in the system\n",
    "findspark.init()\n",
    "\n",
    "# Import Pyspark libraries and functions\n",
    "import pyspark\n",
    "from pyspark import SparkConf, SparkContext\n",
    "from pyspark.sql import SQLContext\n",
    "from pyspark.sql.functions import concat, col, lit, udf, when\n",
    "from pyspark.sql.types import ArrayType, IntegerType, StringType , DateType\n",
    "\n",
    "# Import Faker (3rd party library) used to generate anonymized data\n",
    "from faker import Factory\n"
   ]
  },
  {
   "cell_type": "markdown",
   "id": "5922bf20",
   "metadata": {},
   "source": [
    "### Setup Spark Context and set the master as local for standalone cluster"
   ]
  },
  {
   "cell_type": "code",
   "execution_count": 2,
   "id": "127c7229",
   "metadata": {},
   "outputs": [],
   "source": [
    "sc = SparkContext(conf=SparkConf().setAppName(\"LFApp\").setMaster(\"local\"))\n",
    "sqlc=SQLContext(sc) "
   ]
  },
  {
   "cell_type": "markdown",
   "id": "96493a3d",
   "metadata": {},
   "source": [
    "### Read the employee data  (Downloaded from : http://eforexcel.com/wp/downloads-16-sample-csv-files-data-sets-for-testing/ )"
   ]
  },
  {
   "cell_type": "code",
   "execution_count": 3,
   "id": "bb99fab7",
   "metadata": {},
   "outputs": [],
   "source": [
    "df = sqlc.read.csv('./Dataset/Records5m.csv', header = True)"
   ]
  },
  {
   "cell_type": "code",
   "execution_count": 4,
   "id": "20c6d721",
   "metadata": {},
   "outputs": [
    {
     "data": {
      "text/plain": [
       "5000000"
      ]
     },
     "execution_count": 4,
     "metadata": {},
     "output_type": "execute_result"
    }
   ],
   "source": [
    "# Find the number of rows\n",
    "df.count()"
   ]
  },
  {
   "cell_type": "code",
   "execution_count": 5,
   "id": "7f99c731",
   "metadata": {},
   "outputs": [
    {
     "data": {
      "text/plain": [
       "['Emp ID',\n",
       " 'Name Prefix',\n",
       " 'First Name',\n",
       " 'Middle Initial',\n",
       " 'Last Name',\n",
       " 'Gender',\n",
       " 'E Mail',\n",
       " \"Father's Name\",\n",
       " \"Mother's Name\",\n",
       " \"Mother's Maiden Name\",\n",
       " 'Date of Birth',\n",
       " 'Time of Birth',\n",
       " 'Age in Yrs.',\n",
       " 'Weight in Kgs.',\n",
       " 'Date of Joining',\n",
       " 'Quarter of Joining',\n",
       " 'Half of Joining',\n",
       " 'Year of Joining',\n",
       " 'Month of Joining',\n",
       " 'Month Name of Joining',\n",
       " 'Short Month',\n",
       " 'Day of Joining',\n",
       " 'DOW of Joining',\n",
       " 'Short DOW',\n",
       " 'Age in Company (Years)',\n",
       " 'Salary',\n",
       " 'Last % Hike',\n",
       " 'SSN',\n",
       " 'Phone No. ',\n",
       " 'Place Name',\n",
       " 'County',\n",
       " 'City',\n",
       " 'State',\n",
       " 'Zip',\n",
       " 'Region',\n",
       " 'User Name',\n",
       " 'Password']"
      ]
     },
     "execution_count": 5,
     "metadata": {},
     "output_type": "execute_result"
    }
   ],
   "source": [
    "# Dataset columns\n",
    "df.columns"
   ]
  },
  {
   "cell_type": "code",
   "execution_count": 6,
   "id": "aad6a7f4",
   "metadata": {},
   "outputs": [
    {
     "name": "stdout",
     "output_type": "stream",
     "text": [
      "+------+-----------+----------+--------------+---------+------+--------------------+---------------+------------------+--------------------+-------------+-------------+-----------+--------------+---------------+------------------+---------------+---------------+----------------+---------------------+-----------+--------------+--------------+---------+----------------------+------+-----------+-----------+------------+----------+--------------------+----------+-----+-----+-------+----------+--------------+\n",
      "|Emp ID|Name Prefix|First Name|Middle Initial|Last Name|Gender|              E Mail|  Father's Name|     Mother's Name|Mother's Maiden Name|Date of Birth|Time of Birth|Age in Yrs.|Weight in Kgs.|Date of Joining|Quarter of Joining|Half of Joining|Year of Joining|Month of Joining|Month Name of Joining|Short Month|Day of Joining|DOW of Joining|Short DOW|Age in Company (Years)|Salary|Last % Hike|        SSN|  Phone No. |Place Name|              County|      City|State|  Zip| Region| User Name|      Password|\n",
      "+------+-----------+----------+--------------+---------+------+--------------------+---------------+------------------+--------------------+-------------+-------------+-----------+--------------+---------------+------------------+---------------+---------------+----------------+---------------------+-----------+--------------+--------------+---------+----------------------+------+-----------+-----------+------------+----------+--------------------+----------+-----+-----+-------+----------+--------------+\n",
      "|742048|       Drs.|    Lizeth|             P|   Mccoll|     F|lizeth.mccoll@ibm...|  Renato Mccoll|     Serena Mccoll|             Broxton|     7/5/1973|  08:14:43 AM|      47.19|            49|       1/7/1995|                Q1|             H1|           1995|               1|              January|        Jan|             7|      Saturday|      Sat|                 25.67|147446|        14%|171-86-6830|216-703-2865|  Alliance|               Stark|  Alliance|   OH|44601|Midwest|  lpmccoll|    b5CDsd1Mz.|\n",
      "|671135|        Ms.| Argentina|             O|     Hern|     F|argentina.hern@nt...|      Earl Hern|      Chrissy Hern|              Tapley|   10/15/1962|  02:08:22 AM|      57.92|            53|       4/1/1986|                Q2|             H1|           1986|               4|                April|        Apr|             1|       Tuesday|      Tue|                 34.44|129174|         8%|083-02-3078|202-572-0136|Washington|District of Columbia|Washington|   DC|20411|  South|    aohern|vsUv&nFc?lM|2-|\n",
      "|965851|        Mr.|    Damian|             N|  Patillo|     M|damian.patillo@ou...| Harley Patillo|   Lucinda Patillo|               Etter|    3/11/1975|  07:48:45 PM|      45.51|            84|     12/16/2004|                Q4|             H2|           2004|              12|             December|        Dec|            16|      Thursday|      Thu|                 15.72|158746|         8%|326-11-9852|209-784-3915|    Burrel|              Fresno|    Burrel|   CA|93607|   West| dnpatillo|  GQj^c:4#B:F8|\n",
      "|224660|       Drs.|   Imogene|             P| Hagopian|     F|imogene.hagopian@...|Delmar Hagopian| Carolina Hagopian|             Lockett|    2/19/1995|  03:15:09 PM|      25.55|            52|       6/8/2017|                Q2|             H1|           2017|               6|                 June|        Jun|             8|      Thursday|      Thu|                  3.23| 55761|        14%|656-36-0772|210-460-6327|     Bryan|              Brazos|     Bryan|   TX|77806|  South|iphagopian|    d[aHK7aiH&|\n",
      "|852694|        Mr.|    Walker|             E|  Wallach|     M|walker.wallach@ao...|   Gale Wallach|Georgianna Wallach|           Creekmore|     8/5/1992|  01:03:46 PM|      28.09|            50|      2/28/2020|                Q1|             H1|           2020|               2|             February|        Feb|            28|        Friday|      Fri|                  0.51|197519|        24%|296-15-3535|225-846-1969|  Newllano|              Vernon|  Newllano|   LA|71461|  South| wewallach|      kM\\7h*}7|\n",
      "+------+-----------+----------+--------------+---------+------+--------------------+---------------+------------------+--------------------+-------------+-------------+-----------+--------------+---------------+------------------+---------------+---------------+----------------+---------------------+-----------+--------------+--------------+---------+----------------------+------+-----------+-----------+------------+----------+--------------------+----------+-----+-----+-------+----------+--------------+\n",
      "only showing top 5 rows\n",
      "\n"
     ]
    }
   ],
   "source": [
    "# Showcasing first few rows \n",
    "df.show(5)"
   ]
  },
  {
   "cell_type": "markdown",
   "id": "f9dde927",
   "metadata": {},
   "source": [
    "### Generate an address column by combining Place, country, city, state and zip "
   ]
  },
  {
   "cell_type": "code",
   "execution_count": 7,
   "id": "78ec862c",
   "metadata": {},
   "outputs": [],
   "source": [
    "df = df.withColumn('Address', concat(col('Place Name'), lit(', '), col('County'),\n",
    "                                     col('City'), lit(', '),col('State'),lit(', '),col('Zip')))"
   ]
  },
  {
   "cell_type": "markdown",
   "id": "19845335",
   "metadata": {},
   "source": [
    "### select only required columns"
   ]
  },
  {
   "cell_type": "code",
   "execution_count": 8,
   "id": "b8d6c8f1",
   "metadata": {},
   "outputs": [],
   "source": [
    "df_selc = df.select('Emp ID','First Name','Last Name','Date of Birth','Address', 'Gender')"
   ]
  },
  {
   "cell_type": "code",
   "execution_count": 9,
   "id": "ab95d841",
   "metadata": {},
   "outputs": [
    {
     "name": "stdout",
     "output_type": "stream",
     "text": [
      "size in memory: 2.044 GB\n"
     ]
    }
   ],
   "source": [
    "# Finding the size of the data in memory\n",
    "subset_size = sys.getsizeof(df_selc.limit(100).toPandas())\n",
    "nrows = df_selc.count()\n",
    "print(\"size in memory: {:.3f} GB\".format(subset_size/100*nrows/1E9))"
   ]
  },
  {
   "cell_type": "code",
   "execution_count": 10,
   "id": "a80c4aba",
   "metadata": {},
   "outputs": [
    {
     "name": "stdout",
     "output_type": "stream",
     "text": [
      "+------+----------+---------+-------------+--------------------+------+\n",
      "|Emp ID|First Name|Last Name|Date of Birth|             Address|Gender|\n",
      "+------+----------+---------+-------------+--------------------+------+\n",
      "|742048|    Lizeth|   Mccoll|     7/5/1973|Alliance, StarkAl...|     F|\n",
      "|671135| Argentina|     Hern|   10/15/1962|Washington, Distr...|     F|\n",
      "|965851|    Damian|  Patillo|    3/11/1975|Burrel, FresnoBur...|     M|\n",
      "|224660|   Imogene| Hagopian|    2/19/1995|Bryan, BrazosBrya...|     F|\n",
      "|852694|    Walker|  Wallach|     8/5/1992|Newllano, VernonN...|     M|\n",
      "|144102|  Jesusita|   Hollie|   10/30/1987|Topanga, Los Ange...|     F|\n",
      "|687793|    Fausto|  Esqueda|    4/23/1971|Somerdale, Tuscar...|     M|\n",
      "|636308|     Vanda|    Komar|     9/2/1962|Akron, SummitAkro...|     F|\n",
      "|218660|   Destiny|Nicholson|     7/1/1995|Atlantic City, At...|     F|\n",
      "|465691|      Evie|    Hamby|    6/22/1980|Rockaway, MorrisR...|     F|\n",
      "+------+----------+---------+-------------+--------------------+------+\n",
      "only showing top 10 rows\n",
      "\n"
     ]
    }
   ],
   "source": [
    "df_selc.show(10)"
   ]
  },
  {
   "cell_type": "markdown",
   "id": "1d84722e",
   "metadata": {},
   "source": [
    "### Create Pyspark UDF for anonymizing required columns by generating similar fake columns . \n",
    "####     Here , we filter out male and female employees and anonymize them seperately to maintain the gender of the fake name"
   ]
  },
  {
   "cell_type": "code",
   "execution_count": 11,
   "id": "0a26504a",
   "metadata": {},
   "outputs": [],
   "source": [
    "#pyspark UDF\n",
    "faker  = Factory.create()\n",
    "anonymize_male = udf(lambda n : faker.first_name_male(), StringType())\n",
    "anonymize_female = udf(lambda n : faker.first_name_female(), StringType())\n",
    "anonymize_female_lst = udf(lambda n : faker.last_name_female(), StringType())\n",
    "anonymize_male_lst = udf(lambda n : faker.last_name_male(), StringType())\n",
    "anonymize_addr = udf(lambda n: faker.address(), StringType())"
   ]
  },
  {
   "cell_type": "code",
   "execution_count": 12,
   "id": "1979a981",
   "metadata": {},
   "outputs": [
    {
     "name": "stdout",
     "output_type": "stream",
     "text": [
      "Total Processing Time (in seconds) to anonymize First name, Last Name and address for 2GB data:  0.18032479286193848\n"
     ]
    }
   ],
   "source": [
    "# Create a new dataframe that has both the original and fake columns for comparison\n",
    "start = time.time()\n",
    "\n",
    "df_fake = df_selc.withColumn(\"Fake_First_name\", when(col(\"Gender\") == \"M\",anonymize_male(col(\"First Name\")))\n",
    "      .when(col(\"Gender\") == \"F\",anonymize_female(col(\"First Name\")))) \\\n",
    "     .withColumn(\"Fake_Last_name\", when(col(\"Gender\") == \"M\",anonymize_male_lst(col(\"Last Name\")))\n",
    "      .when(col(\"Gender\") == \"F\",anonymize_female_lst(col(\"First Name\")))) \\\n",
    "    .withColumn(\"Fake Addrs\", anonymize_addr(col(\"Address\")))\n",
    "end = time.time()\n",
    "print (\"Total Processing Time (in seconds) to anonymize First name, Last Name and address for 2GB data: \",end-start)"
   ]
  },
  {
   "cell_type": "code",
   "execution_count": 13,
   "id": "b3ba4da0",
   "metadata": {},
   "outputs": [
    {
     "name": "stdout",
     "output_type": "stream",
     "text": [
      "+------+----------+---------+-------------+--------------------+------+---------------+--------------+--------------------+\n",
      "|Emp ID|First Name|Last Name|Date of Birth|             Address|Gender|Fake_First_name|Fake_Last_name|          Fake Addrs|\n",
      "+------+----------+---------+-------------+--------------------+------+---------------+--------------+--------------------+\n",
      "|742048|    Lizeth|   Mccoll|     7/5/1973|Alliance, StarkAl...|     F|          Erica|        Morris|0413 Laura Island...|\n",
      "|671135| Argentina|     Hern|   10/15/1962|Washington, Distr...|     F|        Darlene|          King|222 Smith Land\n",
      "Ea...|\n",
      "|965851|    Damian|  Patillo|    3/11/1975|Burrel, FresnoBur...|     M|         Olivia|          Wolf|561 White Plain S...|\n",
      "|224660|   Imogene| Hagopian|    2/19/1995|Bryan, BrazosBrya...|     F|         Amanda|       Johnson|7983 Dylan Groves...|\n",
      "|852694|    Walker|  Wallach|     8/5/1992|Newllano, VernonN...|     M|        Rebecca|       Salinas|66816 Tammy Avenu...|\n",
      "|144102|  Jesusita|   Hollie|   10/30/1987|Topanga, Los Ange...|     F|       Michelle|      Mckinney|197 Wu Gateway Ap...|\n",
      "|687793|    Fausto|  Esqueda|    4/23/1971|Somerdale, Tuscar...|     M|         Andrea|         Jones|7643 Cassandra In...|\n",
      "|636308|     Vanda|    Komar|     9/2/1962|Akron, SummitAkro...|     F|         Cheryl|           Lee|15012 Nancy Stree...|\n",
      "|218660|   Destiny|Nicholson|     7/1/1995|Atlantic City, At...|     F|        Rebecca|         Hogan|63521 Lyons Villa...|\n",
      "|465691|      Evie|    Hamby|    6/22/1980|Rockaway, MorrisR...|     F|          Emily|       Stewart|417 Myers Hollow\n",
      "...|\n",
      "+------+----------+---------+-------------+--------------------+------+---------------+--------------+--------------------+\n",
      "only showing top 10 rows\n",
      "\n"
     ]
    }
   ],
   "source": [
    "df_fake.show(10)"
   ]
  },
  {
   "cell_type": "markdown",
   "id": "4c6ffacd",
   "metadata": {},
   "source": [
    "## Select the required columns and rename them as original columns to maintain anonymity"
   ]
  },
  {
   "cell_type": "code",
   "execution_count": 14,
   "id": "210e53a1",
   "metadata": {},
   "outputs": [],
   "source": [
    "df_final = df_fake.select('Emp ID','Fake_First_name','Fake_Last_name','Date of Birth','Fake Addrs')"
   ]
  },
  {
   "cell_type": "code",
   "execution_count": 15,
   "id": "15bb03b0",
   "metadata": {},
   "outputs": [],
   "source": [
    "df_final = df_final.withColumnRenamed('Fake_First_name','First Name').withColumnRenamed('Fake_Last_name','Last Name') \\\n",
    "            .withColumnRenamed('Fake Addrs','Address')"
   ]
  },
  {
   "cell_type": "code",
   "execution_count": 16,
   "id": "a24c5180",
   "metadata": {},
   "outputs": [
    {
     "name": "stdout",
     "output_type": "stream",
     "text": [
      "+------+----------+---------+-------------+--------------------+\n",
      "|Emp ID|First Name|Last Name|Date of Birth|             Address|\n",
      "+------+----------+---------+-------------+--------------------+\n",
      "|742048|     Erica|   Morris|     7/5/1973|0413 Laura Island...|\n",
      "|671135|   Darlene|     King|   10/15/1962|222 Smith Land\n",
      "Ea...|\n",
      "|965851|    Olivia|     Wolf|    3/11/1975|561 White Plain S...|\n",
      "|224660|    Amanda|  Johnson|    2/19/1995|7983 Dylan Groves...|\n",
      "|852694|   Rebecca|  Salinas|     8/5/1992|66816 Tammy Avenu...|\n",
      "|144102|  Michelle| Mckinney|   10/30/1987|197 Wu Gateway Ap...|\n",
      "|687793|    Andrea|    Jones|    4/23/1971|7643 Cassandra In...|\n",
      "|636308|    Cheryl|      Lee|     9/2/1962|15012 Nancy Stree...|\n",
      "|218660|   Rebecca|    Hogan|     7/1/1995|63521 Lyons Villa...|\n",
      "|465691|     Emily|  Stewart|    6/22/1980|417 Myers Hollow\n",
      "...|\n",
      "+------+----------+---------+-------------+--------------------+\n",
      "only showing top 10 rows\n",
      "\n"
     ]
    }
   ],
   "source": [
    "df_final.show(10)"
   ]
  },
  {
   "cell_type": "code",
   "execution_count": null,
   "id": "a60b7320",
   "metadata": {},
   "outputs": [],
   "source": []
  }
 ],
 "metadata": {
  "kernelspec": {
   "display_name": "Python 3",
   "language": "python",
   "name": "python3"
  },
  "language_info": {
   "codemirror_mode": {
    "name": "ipython",
    "version": 3
   },
   "file_extension": ".py",
   "mimetype": "text/x-python",
   "name": "python",
   "nbconvert_exporter": "python",
   "pygments_lexer": "ipython3",
   "version": "3.9.4"
  }
 },
 "nbformat": 4,
 "nbformat_minor": 5
}